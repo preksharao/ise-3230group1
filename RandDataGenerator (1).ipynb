{
 "cells": [
  {
   "cell_type": "code",
   "execution_count": null,
   "id": "e105faea-500c-4fbd-8372-a51f4f7d9830",
   "metadata": {},
   "outputs": [],
   "source": [
    "import numpy as np\n",
    "import pandas as pd\n",
    "\n",
    "random_data = np.zeros((1000, 3))\n",
    "\n",
    "# populate arrays\n",
    "random_data[:, 0] = np.round(np.random.uniform(0.0, 4.0, 1000), 2)\n",
    "random_data[:, 1] = np.random.randint(400, 1601, 1000)\n",
    "random_data[:, 2] = np.random.randint(1, 26, 1000)\n",
    "\n",
    "# preprocess\n",
    "random_data = random_data.astype(object)\n",
    "random_data[:, 1] = random_data[:, 1].astype(int)\n",
    "random_data[:, 2] = random_data[:, 2].astype(int)\n",
    "\n",
    "df = pd.DataFrame()\n",
    "\n",
    "# populate the dataframe\n",
    "df[\"GPA\"] = random_data[:, 0]\n",
    "df[\"satScore\"] = random_data[:, 1]\n",
    "df[\"Rank\"] = random_data[:, 2]\n",
    "\n",
    "print(random_data[:10])\n",
    "df.head()\n",
    "\n",
    "df.to_csv(\"/Users/jamesthomas/Desktop/ISEproj/StudentAdmissionData.csv\", index=False)"
   ]
  },
  {
   "cell_type": "code",
   "execution_count": null,
   "id": "f10015db-6c7d-45c6-a5d0-175225265b08",
   "metadata": {},
   "outputs": [],
   "source": [
    "import numpy as np\n",
    "import pandas as pd\n",
    "\n",
    "data = np.zeros((1000, 20), dtype=int)\n",
    "\n",
    "for i in range(data.shape[0]):\n",
    "    positions = np.random.choice(array_size, 3, replace=False)\n",
    "    data[i, positions[0]] = 1\n",
    "    data[i, positions[1]] = 2\n",
    "    data[i, positions[2]] = 3\n",
    "\n",
    "columns = [f\"pref{i+1}\" for i in range(array_size)]\n",
    "df = pd.DataFrame(data, columns=columns)\n",
    "\n",
    "df.to_csv(\"/Users/jamesthomas/Desktop/ISEproj/StudentPrefData.csv\", index=False)\n",
    "\n",
    "print(data[:10])\n",
    "print(df.head())"
   ]
  }
 ],
 "metadata": {
  "kernelspec": {
   "display_name": "Python 3 (ipykernel)",
   "language": "python",
   "name": "python3"
  },
  "language_info": {
   "codemirror_mode": {
    "name": "ipython",
    "version": 3
   },
   "file_extension": ".py",
   "mimetype": "text/x-python",
   "name": "python",
   "nbconvert_exporter": "python",
   "pygments_lexer": "ipython3",
   "version": "3.9.18"
  }
 },
 "nbformat": 4,
 "nbformat_minor": 5
}
