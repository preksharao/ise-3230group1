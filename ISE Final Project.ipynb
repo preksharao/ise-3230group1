{
 "cells": [
  {
   "cell_type": "code",
   "execution_count": 156,
   "id": "2a7e7638-9bfc-4efa-a3b8-6c2a0fbb9bef",
   "metadata": {},
   "outputs": [
    {
     "name": "stdout",
     "output_type": "stream",
     "text": [
      "Total preference score: 36.0\n",
      "Matching results:\n",
      "Student 2 admitted to University/Universities: 1, 2, 3\n",
      "Student 3 admitted to University/Universities: 1, 2, 3\n",
      "Student 1 admitted to University/Universities: 1, 2, 3\n",
      "Student 6 admitted to University/Universities: 1, 2, 3\n",
      "Student 5 admitted to University/Universities: 1, 2, 3\n",
      "Student 4 admitted to University/Universities: 1, 2, 3\n"
     ]
    }
   ],
   "source": [
    "#FINAL FINAL FINAL\n",
    "\n",
    "import cvxpy as cp\n",
    "import numpy as np\n",
    "\n",
    "# Data setup\n",
    "num_students = 6\n",
    "num_universities = 3\n",
    "\n",
    "student_data = np.array([[3.9, 1500, 1],  # Student 1 - rank 3\n",
    "                         [4.0, 1600, 1],  # Student 2 - rank 1\n",
    "                         [4.0, 1600, 1],  # Student 3 - rank 2\n",
    "                         [3.6, 1350, 5],  # Student 4 - rank 5 \n",
    "                         [3.7, 1450, 1],  # Student 5 - rank 4 \n",
    "                         [3.9, 1550, 1]])  # Student 6 - rank 6\n",
    "\n",
    "university_requirements = np.array([[3.0, 1200, 20],  # University 1\n",
    "                                    [3.5, 1300, 20],  # University 2\n",
    "                                    [3.2, 1250, 20]]) # University 3\n",
    "\n",
    "\n",
    "preference_scores = np.array([[3, 2, 1], \n",
    "                               [3, 2, 1],\n",
    "                               [3, 2, 1],\n",
    "                               [3, 2, 1],\n",
    "                               [3, 2, 1],\n",
    "                               [3, 2, 1]])\n",
    "\n",
    "university_capacities = np.array([10, 10, 10])\n",
    "\n",
    "x = cp.Variable((num_students, num_universities), boolean=True)\n",
    "\n",
    "# Sort students\n",
    "sorted_indices = np.lexsort((student_data[:, 2], student_data[:, 1], -student_data[:, 0]))\n",
    "sorted_student_data = student_data[sorted_indices]\n",
    "sorted_preference_scores = preference_scores[sorted_indices]\n",
    "\n",
    "objective = cp.Maximize(cp.sum(cp.multiply(sorted_preference_scores, x)))\n",
    "\n",
    "constraints = []\n",
    "\n",
    "#Eligibility constraint\n",
    "for i in range(num_students):\n",
    "    for j in range(num_universities):\n",
    "        gpa, sat, rank = sorted_student_data[i]\n",
    "        min_gpa, min_sat, max_rank = university_requirements[j]\n",
    "        if gpa >= min_gpa and sat >= min_sat and rank <= max_rank:\n",
    "            eligibility_matrix[i, j] = 1  \n",
    "            constraints.append(x[i, j] == 1)  \n",
    "        else:\n",
    "            constraints.append(x[i, j] == 0)  \n",
    "\n",
    "# Capacity Constraint\n",
    "for j in range(num_universities):\n",
    "    constraints.append(cp.sum(x[:, j]) <= university_capacities[j])\n",
    "\n",
    "problem = cp.Problem(objective, constraints)\n",
    "problem.solve()\n",
    "\n",
    "print(\"Total preference score:\", objective.value)\n",
    "print(\"Matching results:\")\n",
    "for i, original_index in enumerate(sorted_indices):\n",
    "    admitted_universities = []\n",
    "    for j in range(num_universities):\n",
    "        if x.value is not None and x.value[i, j] > 0.5:\n",
    "            admitted_universities.append(j + 1)\n",
    "    if admitted_universities:\n",
    "        print(f\"Student {original_index + 1} admitted to University/Universities: {', '.join(map(str, admitted_universities))}\")\n",
    "    else:\n",
    "        print(f\"Student {original_index + 1} not admitted to any university\")"
   ]
  },
  {
   "cell_type": "code",
   "execution_count": null,
   "id": "2f5949a6-9724-4e7b-8cd8-a33df1126c99",
   "metadata": {},
   "outputs": [],
   "source": []
  }
 ],
 "metadata": {
  "kernelspec": {
   "display_name": "Python 3 (ipykernel)",
   "language": "python",
   "name": "python3"
  },
  "language_info": {
   "codemirror_mode": {
    "name": "ipython",
    "version": 3
   },
   "file_extension": ".py",
   "mimetype": "text/x-python",
   "name": "python",
   "nbconvert_exporter": "python",
   "pygments_lexer": "ipython3",
   "version": "3.12.2"
  }
 },
 "nbformat": 4,
 "nbformat_minor": 5
}
